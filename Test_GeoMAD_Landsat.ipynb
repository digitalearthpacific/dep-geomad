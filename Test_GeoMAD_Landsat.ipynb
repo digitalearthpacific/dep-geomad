{
 "cells": [
  {
   "cell_type": "code",
   "execution_count": null,
   "metadata": {},
   "outputs": [],
   "source": [
    "from datacube.utils.dask import start_local_dask\n",
    "from dep_tools.loaders import LandsatOdcLoader\n",
    "from dep_tools.namers import LocalPath\n",
    "from dep_tools.writers import LocalDsWriter\n",
    "\n",
    "from src.run_task import GeoMADLandsatProcessor, get_grid"
   ]
  },
  {
   "cell_type": "code",
   "execution_count": null,
   "metadata": {},
   "outputs": [],
   "source": [
    "%load_ext autoreload\n",
    "%autoreload 2"
   ]
  },
  {
   "cell_type": "code",
   "execution_count": null,
   "metadata": {},
   "outputs": [],
   "source": [
    "# Optionally set up a local dask cluster\n",
    "client = start_local_dask()\n",
    "client.dashboard_link"
   ]
  },
  {
   "cell_type": "code",
   "execution_count": null,
   "metadata": {},
   "outputs": [],
   "source": [
    "# Issues\n",
    "# region_code = \"66,19\"  # BBOX is bad, baby\n",
    "\n",
    "# Study site configuration\n",
    "# region_code = \"68,18\"\n",
    "datetime = \"2023\"\n",
    "item_id = region_code\n",
    "\n",
    "# And get the study site\n",
    "grid = get_grid()\n",
    "cell = grid.loc[[(region_code)]]\n",
    "cell.explore()"
   ]
  },
  {
   "cell_type": "code",
   "execution_count": null,
   "metadata": {},
   "outputs": [],
   "source": [
    "# Set up a data loader\n",
    "loader = LandsatOdcLoader(\n",
    "    epsg=3832,\n",
    "    datetime=datetime,\n",
    "    dask_chunksize=dict(time=1, x=4096, y=4096),\n",
    "    odc_load_kwargs=dict(\n",
    "        fail_on_error=False,\n",
    "        resolution=30,\n",
    "        # bands=[\"qa_pixel\", \"red\", \"green\", \"blue\", \"nir08\", \"swir16\", \"swir22\"],\n",
    "        bands=[\"qa_pixel\", \"red\", \"green\", \"blue\"]\n",
    "    ),\n",
    "    exclude_platforms=[\"landsat-7\"],\n",
    "    nodata_value=0,\n",
    "    keep_ints=True,\n",
    "    flat_array=True,\n",
    "    only_tier_one=True,\n",
    "    fall_back_to_tier_two=True\n",
    ")\n",
    "\n",
    "# Run the load process, which is lazy-loaded\n",
    "input_data = loader.load(cell)\n",
    "input_data"
   ]
  },
  {
   "cell_type": "code",
   "execution_count": null,
   "metadata": {},
   "outputs": [],
   "source": [
    "from dep_tools.utils import search_across_180\n",
    "\n",
    "bbox = cell.to_crs(4326).total_bounds\n",
    "if bbox[0] > 180:\n",
    "    bbox[0] = bbox[0] - 360\n",
    "    if bbox[2] > 180:\n",
    "        bbox[2] = bbox[2] - 360\n",
    "\n",
    "bbox_crosses_antimeridian = (\n",
    "    bbox[0] < 0 and bbox[2] > 0 or bbox[0] < 180 and bbox[2] > 180\n",
    ")\n",
    "if bbox_crosses_antimeridian:\n",
    "    print(\"it crosses\")\n",
    "    xmin_ll, ymin_ll = bbox[0], bbox[1]\n",
    "    xmax_ll, ymax_ll = bbox[2], bbox[3]\n",
    "\n",
    "    xmax_ll = xmax_ll - 360 if xmax_ll > 180 else xmax_ll\n",
    "\n",
    "    left_bbox = [xmin_ll, ymin_ll, 180, ymax_ll]\n",
    "    right_bbox = [-180, ymin_ll, xmax_ll, ymax_ll]"
   ]
  },
  {
   "cell_type": "code",
   "execution_count": null,
   "metadata": {},
   "outputs": [],
   "source": [
    "# Set up a data processor\n",
    "processor = GeoMADLandsatProcessor(\n",
    "    scale_and_offset=False,\n",
    "    dilate_mask=[2, 3],\n",
    "    work_chunks=(601, 601),\n",
    "    num_threads=10,\n",
    "    keep_ints=True\n",
    ")\n",
    "\n",
    "# Plan the processing. Still lazy-loaded\n",
    "output_data = processor.process(input_data)\n",
    "output_data"
   ]
  },
  {
   "cell_type": "code",
   "execution_count": null,
   "metadata": {},
   "outputs": [],
   "source": [
    "# Actually load data and do the processing, so we have it in memory\n",
    "loaded = output_data.compute()\n",
    "loaded"
   ]
  },
  {
   "cell_type": "code",
   "execution_count": null,
   "metadata": {},
   "outputs": [],
   "source": [
    "# Testing the Azure writer\n",
    "\n",
    "# from dep_tools.writers import AzureDsWriter\n",
    "# from dep_tools.namers import DepItemPath\n",
    "\n",
    "# itempath = DepItemPath(\"geomad\", \"test\", \"0.0\", datetime)\n",
    "\n",
    "# writer = AzureDsWriter(\n",
    "#     itempath=itempath,\n",
    "#     overwrite=True,\n",
    "#     convert_to_int16=False,\n",
    "#     extra_attrs=dict(dep_version=\"0.0\"),\n",
    "# )\n",
    "\n",
    "# writer.write(output_data, \"test\")\n"
   ]
  },
  {
   "cell_type": "code",
   "execution_count": null,
   "metadata": {},
   "outputs": [],
   "source": [
    "from odc.stac import load\n",
    "from pystac import Item\n",
    "\n",
    "item = Item.from_file(\"https://deppcpublicstorage.blob.core.windows.net/output/dep_geomad_test/0-0/test/2023-01/dep_geomad_test_test_2023-01.stac-item.json\")\n",
    "\n",
    "data = load([item], chunks={})\n",
    "data"
   ]
  },
  {
   "cell_type": "code",
   "execution_count": null,
   "metadata": {},
   "outputs": [],
   "source": [
    "data.red.isel(time=0).plot.imshow(size=8, robust=True)"
   ]
  },
  {
   "cell_type": "code",
   "execution_count": null,
   "metadata": {},
   "outputs": [],
   "source": [
    "# This is the target path\n",
    "dep_path = LocalPath(\n",
    "    local_folder=\"data\",\n",
    "    sensor=\"ls\",\n",
    "    dataset_id=\"geomad\",\n",
    "    version=\"0.0.0\",\n",
    "    time=datetime,\n",
    ")\n",
    "\n",
    "# Set up a writer and write out the files\n",
    "writer = LocalDsWriter(\n",
    "    itempath=dep_path,\n",
    "    output_nodata=0,\n",
    "    use_odc_writer=True,\n",
    "    overwrite=True,\n",
    "    convert_to_int16=False\n",
    ")\n",
    "out_files = writer.write(loaded, item_id)"
   ]
  },
  {
   "cell_type": "code",
   "execution_count": null,
   "metadata": {},
   "outputs": [],
   "source": [
    "# Make sure written files are readable\n",
    "stac_path = writer.itempath.path(item_id, ext=\".stac-item.json\")\n",
    "\n",
    "item = Item.from_file(stac_path)\n",
    "item.validate()"
   ]
  }
 ],
 "metadata": {
  "kernelspec": {
   "display_name": "Python 3 (ipykernel)",
   "language": "python",
   "name": "python3"
  },
  "language_info": {
   "codemirror_mode": {
    "name": "ipython",
    "version": 3
   },
   "file_extension": ".py",
   "mimetype": "text/x-python",
   "name": "python",
   "nbconvert_exporter": "python",
   "pygments_lexer": "ipython3",
   "version": "3.11.5"
  }
 },
 "nbformat": 4,
 "nbformat_minor": 4
}
