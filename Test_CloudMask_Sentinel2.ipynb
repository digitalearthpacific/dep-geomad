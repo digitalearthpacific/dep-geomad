{
 "cells": [
  {
   "cell_type": "code",
   "execution_count": null,
   "metadata": {},
   "outputs": [],
   "source": [
    "from dep_tools.searchers import PystacSearcher\n",
    "from dep_tools.loaders import OdcLoader\n",
    "from dep_tools.grids import PACIFIC_GRID_10\n",
    "\n",
    "from dep_tools.s2_utils import mask_clouds\n",
    "\n",
    "from odc.stac import configure_rio\n",
    "import folium"
   ]
  },
  {
   "cell_type": "code",
   "execution_count": null,
   "metadata": {},
   "outputs": [],
   "source": [
    "%load_ext autoreload\n",
    "%autoreload 2"
   ]
  },
  {
   "cell_type": "code",
   "execution_count": null,
   "metadata": {},
   "outputs": [],
   "source": [
    "# Set up rasterio\n",
    "configure_rio(cloud_defaults=True, aws={\"aws_unsigned\": True})"
   ]
  },
  {
   "cell_type": "code",
   "execution_count": null,
   "metadata": {},
   "outputs": [],
   "source": [
    "# Study site configuration\n",
    "item_id = \"63,20\"  # West viti levu\n",
    "datetime=\"2024-08-03\"\n",
    "\n",
    "# item_id = \"56,49\"  # Atol with cloud mask issues\n",
    "# datetime = \"2024-08-05\"\n",
    "\n",
    "# And get the study site\n",
    "tile_index = tuple(int(i) for i in item_id.split(\",\"))\n",
    "geobox = PACIFIC_GRID_10.tile_geobox(tile_index)\n",
    "\n",
    "# Load low-res if you want it faster\n",
    "# geobox = geobox.crop(100)\n",
    "\n",
    "geobox.explore()"
   ]
  },
  {
   "cell_type": "code",
   "execution_count": null,
   "metadata": {},
   "outputs": [],
   "source": [
    "# Search for data\n",
    "searcher = PystacSearcher(\n",
    "    catalog=\"https://earth-search.aws.element84.com/v1\",\n",
    "    collections=[\"sentinel-2-c1-l2a\"],\n",
    "    datetime=datetime,   \n",
    ")\n",
    "\n",
    "items = searcher.search(area=geobox)\n",
    "print(f\"Found {len(items)} items\")"
   ]
  },
  {
   "cell_type": "code",
   "execution_count": null,
   "metadata": {},
   "outputs": [],
   "source": [
    "# Set up a data loader\n",
    "loader = OdcLoader(\n",
    "    bands=[\"scl\", \"red\", \"blue\", \"green\", \"cloud\"],\n",
    "    chunks=dict(time=1, x=3201, y=3201),\n",
    "    groupby=\"solar_day\",\n",
    "    fail_on_error=False,\n",
    ")\n",
    "\n",
    "# Run the load process, which is lazy-loaded\n",
    "data = loader.load(items, areas=geobox)\n",
    "data"
   ]
  },
  {
   "cell_type": "code",
   "execution_count": null,
   "metadata": {},
   "outputs": [],
   "source": [
    "data = data.squeeze().compute()"
   ]
  },
  {
   "cell_type": "code",
   "execution_count": null,
   "metadata": {},
   "outputs": [],
   "source": [
    "data[[\"red\", \"green\", \"blue\"]].to_array().plot.imshow(size=10, vmin=1000, vmax=3000)"
   ]
  },
  {
   "cell_type": "code",
   "execution_count": null,
   "metadata": {},
   "outputs": [],
   "source": [
    "_, mask = mask_clouds(data, filters=[(\"dilation\", 3), (\"erosion\", 2)], return_mask=True)\n",
    "_, mask_new = mask_clouds(data, filters=[(\"erosion\", 3), (\"dilation\", 6)], return_mask=True)\n",
    "_, no_filter = mask_clouds(data, return_mask=True)"
   ]
  },
  {
   "cell_type": "code",
   "execution_count": null,
   "metadata": {},
   "outputs": [],
   "source": [
    "m = folium.Map(location=geobox.geographic_extent.centroid.coords[0][::-1], zoom_start=10)\n",
    "\n",
    "data.odc.to_rgba(vmin=1000, vmax=3000).odc.add_to(m, name=\"RGB\")\n",
    "mask.where(mask != 0).odc.add_to(m, name=\"Cloud Mask (old)\", vmin=0, vmax=1)\n",
    "mask_new.where(mask_new != 0).odc.add_to(m, name=\"Cloud Mask (new)\", vmin=0, vmax=1)\n",
    "no_filter.where(no_filter != 0).odc.add_to(m, name=\"Cloud Mask (no filter)\", vmin=0, vmax=1)\n",
    "data.cloud.odc.add_to(m, name=\"Cloud Probability\")\n",
    "data.scl.odc.add_to(m, name=\"SCL\")\n",
    "\n",
    "folium.LayerControl().add_to(m)\n",
    "\n",
    "m"
   ]
  },
  {
   "cell_type": "code",
   "execution_count": null,
   "metadata": {},
   "outputs": [],
   "source": [
    "m.save(\"cloudtesting_fiji.html\")"
   ]
  }
 ],
 "metadata": {
  "kernelspec": {
   "display_name": "Python 3",
   "language": "python",
   "name": "python3"
  },
  "language_info": {
   "codemirror_mode": {
    "name": "ipython",
    "version": 3
   },
   "file_extension": ".py",
   "mimetype": "text/x-python",
   "name": "python",
   "nbconvert_exporter": "python",
   "pygments_lexer": "ipython3",
   "version": "3.11.9"
  }
 },
 "nbformat": 4,
 "nbformat_minor": 2
}
