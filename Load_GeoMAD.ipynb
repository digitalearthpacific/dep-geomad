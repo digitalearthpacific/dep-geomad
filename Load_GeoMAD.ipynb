{
 "cells": [
  {
   "cell_type": "code",
   "execution_count": null,
   "metadata": {},
   "outputs": [],
   "source": [
    "from pystac_client import Client\n",
    "from odc.stac import load"
   ]
  },
  {
   "cell_type": "code",
   "execution_count": null,
   "metadata": {},
   "outputs": [],
   "source": [
    "latlon_min = (-10.226241126118127, 150.9049415588338)\n",
    "latlon_max = (-9.881091690881888, 151.37323379516192)\n",
    "\n",
    "bbox = [latlon_min[1], latlon_min[0], latlon_max[1], latlon_max[0]]"
   ]
  },
  {
   "cell_type": "code",
   "execution_count": null,
   "metadata": {},
   "outputs": [],
   "source": [
    "catalog = \"https://stac.staging.digitalearthpacific.io/\"\n",
    "client = Client.open(catalog)"
   ]
  },
  {
   "cell_type": "code",
   "execution_count": null,
   "metadata": {},
   "outputs": [],
   "source": [
    "items = client.search(collections=\"dep_s2_geomad\", bbox=bbox).item_collection()\n",
    "\n",
    "print(f\"Found {len(items)} items\")"
   ]
  },
  {
   "cell_type": "code",
   "execution_count": null,
   "metadata": {},
   "outputs": [],
   "source": [
    "data = load(items, bbox=bbox, chunks={\"x\": 2048, \"y\": 2048})\n",
    "data"
   ]
  },
  {
   "cell_type": "code",
   "execution_count": null,
   "metadata": {},
   "outputs": [],
   "source": [
    "import rasterio\n",
    "\n",
    "with rasterio.Env(AWS_NO_SIGN_REQUEST=\"YES\"):\n",
    "    loaded = data[[\"red\", \"green\", \"blue\", \"smad\", \"bcmad\", \"emad\"]].compute()"
   ]
  },
  {
   "cell_type": "code",
   "execution_count": null,
   "metadata": {},
   "outputs": [],
   "source": [
    "import folium\n",
    "\n",
    "m = folium.Map(location=loaded.odc.geobox.extent.centroid.to_crs(\"epsg:4326\").coords[0][::-1], zoom_start=10)\n",
    "\n",
    "loaded.odc.to_rgba(vmin=1000, vmax=3000).odc.add_to(m)\n",
    "\n",
    "for band in [\"smad\", \"emad\", \"bcmad\"]:\n",
    "    loaded[band].odc.add_to(m, robust=True)\n",
    "\n",
    "folium.LayerControl().add_to(m)\n",
    "\n",
    "m"
   ]
  },
  {
   "cell_type": "code",
   "execution_count": null,
   "metadata": {},
   "outputs": [],
   "source": [
    "# m.save(\"index.html\")"
   ]
  }
 ],
 "metadata": {
  "kernelspec": {
   "display_name": "Python 3",
   "language": "python",
   "name": "python3"
  },
  "language_info": {
   "codemirror_mode": {
    "name": "ipython",
    "version": 3
   },
   "file_extension": ".py",
   "mimetype": "text/x-python",
   "name": "python",
   "nbconvert_exporter": "python",
   "pygments_lexer": "ipython3",
   "version": "3.11.9"
  }
 },
 "nbformat": 4,
 "nbformat_minor": 2
}
