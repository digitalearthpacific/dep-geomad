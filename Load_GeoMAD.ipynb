{
 "cells": [
  {
   "cell_type": "code",
   "execution_count": 1,
   "metadata": {},
   "outputs": [],
   "source": [
    "from pystac_client import Client\n",
    "from pystac import Item\n",
    "from odc.stac import load"
   ]
  },
  {
   "cell_type": "code",
   "execution_count": 16,
   "metadata": {},
   "outputs": [],
   "source": [
    "# latlon_min = (-18.06231, 177.71210)\n",
    "# latlon_max = (-17.54912, 178.25661)\n",
    "\n",
    "# bbox = [latlon_min[1], latlon_min[0], latlon_max[1], latlon_max[0]]\n",
    "\n",
    "# bbox over viti levu\n",
    "bbox = [179.8, -18.06231, 180, -17.54912]"
   ]
  },
  {
   "cell_type": "code",
   "execution_count": 11,
   "metadata": {},
   "outputs": [],
   "source": [
    "catalog = \"https://stac.staging.digitalearthpacific.io/\"\n",
    "client = Client.open(catalog)"
   ]
  },
  {
   "cell_type": "code",
   "execution_count": null,
   "metadata": {},
   "outputs": [],
   "source": [
    "items = client.search(collections=\"dep_s2_geomad\", bbox=bbox).item_collection()\n",
    "\n",
    "print(f\"Found {len(items)} items\")"
   ]
  },
  {
   "cell_type": "code",
   "execution_count": 4,
   "metadata": {},
   "outputs": [],
   "source": [
    "items = [Item.from_file(\"https://dep-public-data.s3.us-west-2.amazonaws.com/dep_s2_geomad/0-3-3/070/012/2023/dep_s2_geomad_070_012_2023.stac-item.json\")]"
   ]
  },
  {
   "cell_type": "code",
   "execution_count": null,
   "metadata": {},
   "outputs": [],
   "source": [
    "data = load(items, bbox=bbox, chunks={\"x\": 2048, \"y\": 2048})\n",
    "data"
   ]
  },
  {
   "cell_type": "code",
   "execution_count": null,
   "metadata": {},
   "outputs": [],
   "source": [
    "bands = [\"bcmad\", \"smad\", \"emad\", \"count\"]\n",
    "\n",
    "data.squeeze().emad.plot.imshow(robust=True)"
   ]
  },
  {
   "cell_type": "code",
   "execution_count": null,
   "metadata": {},
   "outputs": [],
   "source": [
    "# bins between 500 and 2000\n",
    "data.emad.plot.hist(bins=100, range=(0, 2000))"
   ]
  },
  {
   "cell_type": "code",
   "execution_count": null,
   "metadata": {},
   "outputs": [],
   "source": [
    "data[\"count\"].odc.explore()"
   ]
  },
  {
   "cell_type": "code",
   "execution_count": null,
   "metadata": {},
   "outputs": [],
   "source": [
    "print(data.emad.compute().quantile([0.05, 0.95]).values)"
   ]
  },
  {
   "cell_type": "code",
   "execution_count": 6,
   "metadata": {},
   "outputs": [],
   "source": [
    "import rasterio\n",
    "\n",
    "with rasterio.Env(AWS_NO_SIGN_REQUEST=\"YES\"):\n",
    "    loaded = data[[\"smad\", \"bcmad\", \"emad\"]].compute()"
   ]
  },
  {
   "cell_type": "code",
   "execution_count": null,
   "metadata": {},
   "outputs": [],
   "source": [
    "for var in [\"smad\", \"bcmad\", \"emad\"]:\n",
    "    # print min, max, and 10/90 percentiles\n",
    "    print(\n",
    "        f\"{var}: {loaded[var].min().values}, {loaded[var].max().values}, {loaded[var].quantile([0.05, 0.95]).values}\"\n",
    "    )"
   ]
  },
  {
   "cell_type": "code",
   "execution_count": null,
   "metadata": {},
   "outputs": [],
   "source": [
    "loaded.emad.plot.hist(bins=100)"
   ]
  },
  {
   "cell_type": "code",
   "execution_count": null,
   "metadata": {},
   "outputs": [],
   "source": [
    "import folium\n",
    "\n",
    "m = folium.Map(location=loaded.odc.geobox.extent.centroid.to_crs(\"epsg:4326\").coords[0][::-1], zoom_start=10)\n",
    "\n",
    "# loaded.odc.to_rgba(vmin=1000, vmax=3000).odc.add_to(m)\n",
    "\n",
    "for band in [\"smad\", \"emad\", \"bcmad\"]:\n",
    "    loaded[band].odc.add_to(m, robust=True)\n",
    "\n",
    "folium.LayerControl().add_to(m)\n",
    "\n",
    "m"
   ]
  },
  {
   "cell_type": "code",
   "execution_count": null,
   "metadata": {},
   "outputs": [],
   "source": [
    "# m.save(\"index.html\")"
   ]
  }
 ],
 "metadata": {
  "kernelspec": {
   "display_name": "Python 3",
   "language": "python",
   "name": "python3"
  },
  "language_info": {
   "codemirror_mode": {
    "name": "ipython",
    "version": 3
   },
   "file_extension": ".py",
   "mimetype": "text/x-python",
   "name": "python",
   "nbconvert_exporter": "python",
   "pygments_lexer": "ipython3",
   "version": "3.11.10"
  }
 },
 "nbformat": 4,
 "nbformat_minor": 2
}
