{
 "cells": [
  {
   "cell_type": "code",
   "execution_count": null,
   "metadata": {},
   "outputs": [],
   "source": [
    "from datacube.utils.dask import start_local_dask\n",
    "from dep_tools.loaders import Sentinel2OdcLoader\n",
    "from dep_tools.namers import LocalPath\n",
    "from dep_tools.writers import LocalDsWriter\n",
    "\n",
    "from pystac import Item\n",
    "\n",
    "from src.run_task import GeoMADSentinel2Processor, get_grid"
   ]
  },
  {
   "cell_type": "code",
   "execution_count": null,
   "metadata": {},
   "outputs": [],
   "source": [
    "%load_ext autoreload\n",
    "%autoreload 2"
   ]
  },
  {
   "cell_type": "code",
   "execution_count": null,
   "metadata": {},
   "outputs": [],
   "source": [
    "# Optionally set up a local dask cluster\n",
    "client = start_local_dask(threads_per_worker=64, n_workers=1, mem_safety_margin=\"2GB\")\n",
    "client.dashboard_link"
   ]
  },
  {
   "cell_type": "code",
   "execution_count": null,
   "metadata": {},
   "outputs": [],
   "source": [
    "# Issues\n",
    "# 46,19  # 404 when loading https://sentinel2l2a01.blob.core.windows.net/sentinel2-l2/58/K/BE/2023/03/30/S2B_MSIL2A_20230330T232849_N0509_R044_T58KBE_20230331T023901.SAFE/GRANULE/L2A_T58KBE_A031673_20230330T232845/IMG_DATA/R20m/T58KBE_20230330T232849_SCL_20m.tif\n",
    "# 110,23\n",
    "# 110,24  # 404 when loading https://sentinel2l2a01.blob.core.windows.net/sentinel2-l2/07/L/DD/2023/01/08/S2A_MSIL2A_20230108T194651_N0400_R099_T07LDD_20230109T093105.SAFE/GRANULE/L2A_T07LDD_A039421_20230108T194819/IMG_DATA/R20m/T07LDD_20230108T194651_SCL_20m.tif\n",
    "# 111,23\n",
    "# 111,24\n",
    "\n",
    "# Study site configuration\n",
    "item_id = \"63,20\"  # West viti levu\n",
    "# item_id = \"65,22\"  # Near the anti-meridian\n",
    "# item_id = \"66,22\"  # Right of the anti-meridian\n",
    "datetime = \"2023\"\n",
    "\n",
    "# And get the study site\n",
    "grid = get_grid()\n",
    "cell = grid.loc[[(item_id)]]\n",
    "cell.explore()"
   ]
  },
  {
   "cell_type": "code",
   "execution_count": null,
   "metadata": {},
   "outputs": [],
   "source": [
    "# Set up a data loader\n",
    "loader = Sentinel2OdcLoader(\n",
    "    epsg=3832,\n",
    "    datetime=\"2023\",\n",
    "    dask_chunksize=dict(time=1, x=4096, y=4096),\n",
    "    odc_load_kwargs=dict(\n",
    "        fail_on_error=False,\n",
    "        resolution=100,\n",
    "        # bands=[\"SCL\", \"B02\", \"B03\", \"B04\", \"B05\", \"B06\", \"B07\", \"B08\", \"B8A\", \"B11\", \"B12\"],\n",
    "        bands=[\"SCL\", \"B04\", \"B03\", \"B02\"],\n",
    "        groupby=\"solar_day\",\n",
    "    ),\n",
    "    nodata_value=0,\n",
    "    keep_ints=True,\n",
    "    load_as_dataset=True,\n",
    ")\n",
    "\n",
    "# Run the load process, which is lazy-loaded\n",
    "input_data = loader.load(cell)\n",
    "input_data"
   ]
  },
  {
   "cell_type": "code",
   "execution_count": null,
   "metadata": {},
   "outputs": [],
   "source": [
    "# Set up a data processor\n",
    "processor = GeoMADSentinel2Processor(\n",
    "    scale_and_offset=False,\n",
    "    harmonize_to_old=True,\n",
    "    geomad_options=dict(\n",
    "        work_chunks=(601, 601),\n",
    "        num_threads=10,\n",
    "        maxiters=100,\n",
    "    ),\n",
    "    filters=[(\"closing\", 5), (\"opening\", 5)],\n",
    "    keep_ints=True\n",
    ")\n",
    "\n",
    "# Plan the processing. Still lazy-loaded\n",
    "output_data = processor.process(input_data)\n",
    "output_data"
   ]
  },
  {
   "cell_type": "code",
   "execution_count": null,
   "metadata": {},
   "outputs": [],
   "source": [
    "output_data.B04.plot.imshow()"
   ]
  },
  {
   "cell_type": "code",
   "execution_count": null,
   "metadata": {},
   "outputs": [],
   "source": [
    "output_data.odc.to_rgba(bands=[\"B04\", \"B03\", \"B02\"], vmin=0, vmax=3000).odc.explore()"
   ]
  },
  {
   "cell_type": "code",
   "execution_count": null,
   "metadata": {},
   "outputs": [],
   "source": [
    "import xarray as xr\n",
    "\n",
    "xr.__version__"
   ]
  },
  {
   "cell_type": "code",
   "execution_count": null,
   "metadata": {},
   "outputs": [],
   "source": [
    "# Actually load data and do the processing, so we have it in memory\n",
    "loaded = output_data.compute()\n",
    "loaded"
   ]
  },
  {
   "cell_type": "code",
   "execution_count": null,
   "metadata": {},
   "outputs": [],
   "source": [
    "loaded[\"count\"].plot.imshow(size=8, robust=True)"
   ]
  },
  {
   "cell_type": "code",
   "execution_count": null,
   "metadata": {},
   "outputs": [],
   "source": [
    "# This is the target path\n",
    "dep_path = LocalPath(\n",
    "    local_folder=\"data\",\n",
    "    sensor=\"s2\",\n",
    "    dataset_id=\"geomad\",\n",
    "    version=\"0.0.0\",\n",
    "    time=datetime,\n",
    ")\n",
    "\n",
    "# Set up a writer and write out the files\n",
    "writer = LocalDsWriter(\n",
    "    itempath=dep_path,\n",
    "    output_nodata=0,\n",
    "    use_odc_writer=True,\n",
    "    overwrite=True,\n",
    "    convert_to_int16=False\n",
    ")\n",
    "print(f\"Writing to: {writer.itempath}\")\n",
    "out_files = writer.write(loaded, item_id)"
   ]
  },
  {
   "cell_type": "code",
   "execution_count": null,
   "metadata": {},
   "outputs": [],
   "source": [
    "# Make sure written files are readable\n",
    "stac_path = writer.itempath.path(item_id, ext=\".stac-item.json\")\n",
    "\n",
    "item = Item.from_file(stac_path)\n",
    "item.validate()"
   ]
  },
  {
   "cell_type": "code",
   "execution_count": null,
   "metadata": {},
   "outputs": [],
   "source": [
    "# Testing the Azure writer\n",
    "\n",
    "# from dep_tools.writers import AzureDsWriter\n",
    "# from dep_tools.namers import DepItemPath\n",
    "\n",
    "# itempath = DepItemPath(\"geomad\", \"test\", \"0.0\", datetime)\n",
    "\n",
    "# writer = AzureDsWriter(\n",
    "#     itempath=itempath,\n",
    "#     overwrite=True,\n",
    "#     convert_to_int16=False,\n",
    "#     extra_attrs=dict(dep_version=\"0.0\"),\n",
    "# )\n",
    "\n",
    "# writer.write(output_data, \"test\")\n"
   ]
  },
  {
   "cell_type": "code",
   "execution_count": null,
   "metadata": {},
   "outputs": [],
   "source": [
    "# from odc.stac import load\n",
    "# from pystac import Item\n",
    "\n",
    "# # How to make this dynamic?\n",
    "# stac_url = \"https://deppcpublicstorage.blob.core.windows.net/output/dep_geomad_test/0-0/test/2023-01/dep_geomad_test_test_2023-01.stac-item.json\"\n",
    "\n",
    "# item = Item.from_file()\n",
    "\n",
    "# data = load([item], chunks={})\n",
    "# data"
   ]
  }
 ],
 "metadata": {
  "kernelspec": {
   "display_name": "Python 3 (ipykernel)",
   "language": "python",
   "name": "python3"
  },
  "language_info": {
   "codemirror_mode": {
    "name": "ipython",
    "version": 3
   },
   "file_extension": ".py",
   "mimetype": "text/x-python",
   "name": "python",
   "nbconvert_exporter": "python",
   "pygments_lexer": "ipython3",
   "version": "3.11.6"
  }
 },
 "nbformat": 4,
 "nbformat_minor": 4
}
