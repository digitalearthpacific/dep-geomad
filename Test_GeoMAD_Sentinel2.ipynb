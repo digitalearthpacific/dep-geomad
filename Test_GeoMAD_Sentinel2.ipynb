{
 "cells": [
  {
   "cell_type": "code",
   "execution_count": null,
   "metadata": {},
   "outputs": [],
   "source": [
    "from dep_tools.searchers import PystacSearcher\n",
    "from dep_tools.loaders import OdcLoader\n",
    "\n",
    "from odc.stac import configure_rio\n",
    "\n",
    "from dep_tools.grids import PACIFIC_GRID_10\n",
    "from src.utils import GeoMADSentinel2Processor\n",
    "\n",
    "from dask.distributed import Client as DaskClient"
   ]
  },
  {
   "cell_type": "code",
   "execution_count": null,
   "metadata": {},
   "outputs": [],
   "source": [
    "%load_ext autoreload\n",
    "%autoreload 2"
   ]
  },
  {
   "cell_type": "code",
   "execution_count": null,
   "metadata": {},
   "outputs": [],
   "source": [
    "# Set up rasterio\n",
    "configure_rio(cloud_defaults=True, aws={\"aws_unsigned\": True})"
   ]
  },
  {
   "cell_type": "code",
   "execution_count": null,
   "metadata": {},
   "outputs": [],
   "source": [
    "# Study site configuration\n",
    "item_id = \"63,20\"  # West viti levu\n",
    "# item_id = \"65,22\"  # Near the anti-meridian\n",
    "# item_id = \"66,22\"  # Right of the anti-meridian\n",
    "# item_id = \"48,16\"  # Vanuatu, middle of Grand Terre\n",
    "# item_id = \"89,16\"  # Rarotonga\n",
    "\n",
    "# item_id = \"66,20\"  # Area across am that is failing. TODO: find out why!\n",
    "item_id = \"65,20\"  # To the west/left of the above tile\n",
    "\n",
    "datetime = \"2024\"\n",
    "\n",
    "# And get the study site\n",
    "tile_index = tuple(int(i) for i in item_id.split(\",\"))\n",
    "geobox = PACIFIC_GRID_10.tile_geobox(tile_index)\n",
    "\n",
    "# Load low-res if you want it faster\n",
    "geobox = geobox.zoom_out(10)\n",
    "\n",
    "geobox.explore()"
   ]
  },
  {
   "cell_type": "code",
   "execution_count": null,
   "metadata": {},
   "outputs": [],
   "source": [
    "# Search for data\n",
    "searcher = PystacSearcher(\n",
    "    catalog=\"https://earth-search.aws.element84.com/v1\",\n",
    "    collections=[\"sentinel-2-c1-l2a\"],\n",
    "    datetime=datetime,   \n",
    ")\n",
    "\n",
    "items = searcher.search(area=geobox)\n",
    "print(f\"Found {len(items)} items\")"
   ]
  },
  {
   "cell_type": "code",
   "execution_count": null,
   "metadata": {},
   "outputs": [],
   "source": [
    "# Set up a data loader\n",
    "loader = OdcLoader(\n",
    "    # bands=[\"SCL\", \"B02\", \"B03\", \"B04\", \"B05\", \"B06\", \"B07\", \"B08\", \"B8A\", \"B11\", \"B12\"],\n",
    "    bands=[\"scl\", \"red\", \"blue\", \"green\"],\n",
    "    chunks=dict(time=1, x=3201, y=3201),\n",
    "    groupby=\"solar_day\",\n",
    "    fail_on_error=False,\n",
    ")\n",
    "\n",
    "# Run the load process, which is lazy-loaded\n",
    "input_data = loader.load(items, areas=geobox)\n",
    "input_data"
   ]
  },
  {
   "cell_type": "code",
   "execution_count": null,
   "metadata": {},
   "outputs": [],
   "source": [
    "old_filter = [(\"dilation\", 3), (\"erosion\", 2)]\n",
    "new_filter = [(\"erosion\", 3), (\"dilation\", 6)]\n",
    "\n",
    "# Set up a data processor\n",
    "processor = GeoMADSentinel2Processor(\n",
    "    geomad_options=dict(\n",
    "        work_chunks=(600, 600),\n",
    "        num_threads=10,\n",
    "        maxiters=100,\n",
    "        scale=1/10000,\n",
    "        offset=-1000/10000\n",
    "    ),\n",
    "    min_timesteps=5,\n",
    "    drop_vars = [\"scl\"],\n",
    ")\n",
    "\n",
    "# Do the processing using a local dask cluster\n",
    "with DaskClient(n_workers=1, threads_per_worker=32, memory_limit=\"10GB\"):\n",
    "    output_data = processor.process(input_data)\n",
    "\n",
    "output_data"
   ]
  },
  {
   "cell_type": "code",
   "execution_count": null,
   "metadata": {},
   "outputs": [],
   "source": [
    "output_data.emad.dtype.name"
   ]
  },
  {
   "cell_type": "code",
   "execution_count": null,
   "metadata": {},
   "outputs": [],
   "source": [
    "output_data.emad.odc.explore(robust=True)"
   ]
  },
  {
   "cell_type": "code",
   "execution_count": null,
   "metadata": {},
   "outputs": [],
   "source": [
    "output_data[[\"red\", \"green\", \"blue\"]].odc.explore(vmin=1000, vmax=3000)"
   ]
  }
 ],
 "metadata": {
  "kernelspec": {
   "display_name": "Python 3",
   "language": "python",
   "name": "python3"
  },
  "language_info": {
   "codemirror_mode": {
    "name": "ipython",
    "version": 3
   },
   "file_extension": ".py",
   "mimetype": "text/x-python",
   "name": "python",
   "nbconvert_exporter": "python",
   "pygments_lexer": "ipython3",
   "version": "3.11.10"
  }
 },
 "nbformat": 4,
 "nbformat_minor": 4
}
