{
 "cells": [
  {
   "cell_type": "code",
   "execution_count": null,
   "metadata": {},
   "outputs": [],
   "source": [
    "from datacube.utils.dask import start_local_dask\n",
    "from dep_tools.loaders import Sentinel2OdcLoader\n",
    "from dep_tools.namers import LocalPath\n",
    "from dep_tools.writers import LocalDsWriter\n",
    "from pystac import Item\n",
    "\n",
    "from src.grid import grid\n",
    "from src.run_task import GeoMADSentinelProcessor\n",
    "\n",
    "from odc.geo.gridspec import GridSpec\n",
    "from odc.geo import XY\n",
    "import geopandas as gpd"
   ]
  },
  {
   "cell_type": "code",
   "execution_count": null,
   "metadata": {},
   "outputs": [],
   "source": [
    "%load_ext autoreload\n",
    "%autoreload 2"
   ]
  },
  {
   "cell_type": "code",
   "execution_count": null,
   "metadata": {},
   "outputs": [],
   "source": [
    "# Optionally set up a local dask cluster\n",
    "client = start_local_dask()\n",
    "client.dashboard_link"
   ]
  },
  {
   "cell_type": "code",
   "execution_count": null,
   "metadata": {},
   "outputs": [],
   "source": [
    "# Study site configuration\n",
    "country_code = \"PG\"\n",
    "region_index = \"63,20\"\n",
    "datetime = \"2022\"\n",
    "dep_path = LocalPath(\n",
    "    local_folder=\"data\",\n",
    "    sensor=\"ls\",\n",
    "    dataset_id=\"geomad\",\n",
    "    version=\"0.0.0\",\n",
    "    time=datetime,\n",
    ")\n",
    "item_id = f\"{country_code}_{region_index}\"\n",
    "\n",
    "# Set up a data loader\n",
    "loader = Sentinel2OdcLoader(\n",
    "    epsg=3832,\n",
    "    datetime=datetime,\n",
    "    dask_chunksize=dict(time=1, x=4096, y=4096),\n",
    "    odc_load_kwargs=dict(\n",
    "        fail_on_error=False,\n",
    "        resolution=10,\n",
    "        # bands=[\"qa_pixel\", \"red\", \"green\", \"blue\", \"nir08\", \"swir16\", \"swir22\"],\n",
    "        bands=[\"SCL\", \"red\", \"green\", \"blue\"]\n",
    "    ),\n",
    "    nodata_value=0,\n",
    "    keep_ints=True,\n",
    "    flat_array=True,\n",
    ")\n",
    "\n",
    "# And a data processor\n",
    "processor = GeoMADSentinelProcessor(\n",
    "    scale_and_offset=False,\n",
    "    dilate_mask=True,\n",
    "    work_chunks=(3200, 3200),\n",
    "    num_threads=10,\n",
    "    keep_ints=True\n",
    ")\n",
    "\n",
    "# And get the study site\n",
    "pacific_gridspec = GridSpec(crs=\"EPSG:3832\", tile_shape=(3200,3200), resolution=30, origin=XY(-3000000,-4000000))\n",
    "geobox = pacific_gridspec.tile_geobox(XY(*map(float, region_index.split(\",\"))))\n",
    "\n",
    "cell = gpd.GeoDataFrame(geometry=[geobox.geographic_extent], crs=4326)"
   ]
  },
  {
   "cell_type": "code",
   "execution_count": null,
   "metadata": {},
   "outputs": [],
   "source": [
    "# Run the load process, which is lazy-loaded\n",
    "input_data = loader.load(cell)\n",
    "input_data"
   ]
  },
  {
   "cell_type": "code",
   "execution_count": null,
   "metadata": {},
   "outputs": [],
   "source": [
    "# Plan the processing. Still lazy-loaded\n",
    "output_data = processor.process(input_data)\n",
    "output_data"
   ]
  },
  {
   "cell_type": "code",
   "execution_count": null,
   "metadata": {},
   "outputs": [],
   "source": [
    "loaded = output_data.compute()"
   ]
  },
  {
   "cell_type": "code",
   "execution_count": null,
   "metadata": {},
   "outputs": [],
   "source": [
    "loaded[[\"red\", \"green\", \"blue\"]].to_array().plot.imshow(robust=True, figsize=(10, 10))"
   ]
  },
  {
   "cell_type": "code",
   "execution_count": null,
   "metadata": {},
   "outputs": [],
   "source": [
    "writer = LocalDsWriter(itempath=dep_path)\n",
    "out_files = writer.write(output_data, item_id)"
   ]
  },
  {
   "cell_type": "code",
   "execution_count": null,
   "metadata": {},
   "outputs": [],
   "source": [
    "# Make sure written files are readable\n",
    "stac_path = writer.itempath.path(item_id, ext=\".stac-item.json\")\n",
    "\n",
    "item = Item.from_file(stac_path)\n",
    "item.validate()"
   ]
  }
 ],
 "metadata": {
  "kernelspec": {
   "display_name": "Python 3 (ipykernel)",
   "language": "python",
   "name": "python3"
  },
  "language_info": {
   "codemirror_mode": {
    "name": "ipython",
    "version": 3
   },
   "file_extension": ".py",
   "mimetype": "text/x-python",
   "name": "python",
   "nbconvert_exporter": "python",
   "pygments_lexer": "ipython3",
   "version": "3.11.5"
  }
 },
 "nbformat": 4,
 "nbformat_minor": 4
}
