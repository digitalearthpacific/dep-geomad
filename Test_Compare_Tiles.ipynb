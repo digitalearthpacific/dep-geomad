{
 "cells": [
  {
   "cell_type": "code",
   "execution_count": null,
   "metadata": {},
   "outputs": [],
   "source": [
    "from dep_tools.namers import DepItemPath\n",
    "import folium\n",
    "from pystac import Item\n",
    "from odc.stac import load, configure_s3_access"
   ]
  },
  {
   "cell_type": "code",
   "execution_count": null,
   "metadata": {},
   "outputs": [],
   "source": [
    "version_1 = \"0.3.0\"\n",
    "version_2 = \"0.3.1\"\n",
    "\n",
    "sensor = \"s2\"\n",
    "dataset_id = \"geomad\"\n",
    "year = \"2023\"\n",
    "\n",
    "bucket_url = \"https://dep-public-staging.s3.us-west-2.amazonaws.com/\""
   ]
  },
  {
   "cell_type": "code",
   "execution_count": null,
   "metadata": {},
   "outputs": [],
   "source": [
    "areas = (\n",
    "    (\"63,20\", \"Viti_Levu\"),\n",
    "    (\"48,16\", \"Vanuatu\"),\n",
    "    (\"89,16\", \"Rarotonga\"),\n",
    "    (\"56,49\", \"Kiribati\"),\n",
    "    (\"75,25\", \"Samoa\"),\n",
    "    (\"28,32\", \"PNG\")\n",
    ")\n",
    "\n",
    "\n",
    "configure_s3_access(cloud_defaults=True, aws_unsigned=True)\n",
    "\n",
    "for item_id, name in areas:\n",
    "    m = folium.Map(location=[0, 0], zoom_start=2)\n",
    "\n",
    "    for version in [version_2, version_1]:\n",
    "        zp = version == \"0.3.1\"\n",
    "        item_path = DepItemPath(sensor, dataset_id, version, time=year, zero_pad_numbers=zp)\n",
    "        item_url = bucket_url + item_path.stac_path(item_id=item_id)\n",
    "        item = Item.from_file(item_url)\n",
    "        data = load([item], bands=[\"red\", \"green\", \"blue\"], chunks={})\n",
    "\n",
    "        data.squeeze().odc.to_rgba(vmin=1000, vmax=4000).odc.add_to(m, name=f\"v: {version}\")\n",
    "\n",
    "    m.fit_bounds(data.odc.map_bounds())\n",
    "    folium.LayerControl().add_to(m)\n",
    "\n",
    "    m.save(f\"comparison_{name}.html\")"
   ]
  },
  {
   "cell_type": "code",
   "execution_count": null,
   "metadata": {},
   "outputs": [],
   "source": [
    "item_id = \"032,030\"\n",
    "item_id = \"078,025\"\n",
    "\n",
    "# https://stac.staging.digitalearthpacific.io/collections/dep_s2_geomad/items/dep_s2_geomad_032_029_2023\n",
    "# https://stac.staging.digitalearthpacific.io/collections/dep_s2_geomad/items/dep_s2_geomad_032_030_2023\n",
    "\n",
    "m = folium.Map(location=[0, 0], zoom_start=2)\n",
    "\n",
    "for version in [version_2]:\n",
    "    zp = version == \"0.3.1\"\n",
    "    item_path = DepItemPath(sensor, dataset_id, version, time=year, zero_pad_numbers=zp)\n",
    "    item_url = bucket_url + item_path.stac_path(item_id=item_id)\n",
    "    item = Item.from_file(item_url)\n",
    "    data = load([item], bands=[\"red\", \"green\", \"blue\"], chunks={})\n",
    "\n",
    "    data.squeeze().odc.to_rgba(vmin=1000, vmax=4000).odc.add_to(m, name=f\"v: {version}\")\n",
    "\n",
    "m.fit_bounds(data.odc.map_bounds())\n",
    "folium.LayerControl().add_to(m)\n",
    "\n",
    "m"
   ]
  }
 ],
 "metadata": {
  "kernelspec": {
   "display_name": "Python 3",
   "language": "python",
   "name": "python3"
  },
  "language_info": {
   "codemirror_mode": {
    "name": "ipython",
    "version": 3
   },
   "file_extension": ".py",
   "mimetype": "text/x-python",
   "name": "python",
   "nbconvert_exporter": "python",
   "pygments_lexer": "ipython3",
   "version": "3.11.9"
  }
 },
 "nbformat": 4,
 "nbformat_minor": 2
}
