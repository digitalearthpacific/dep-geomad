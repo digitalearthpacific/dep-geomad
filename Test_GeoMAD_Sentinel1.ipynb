{
 "cells": [
  {
   "cell_type": "code",
   "execution_count": null,
   "metadata": {},
   "outputs": [],
   "source": [
    "from dask.distributed import Client as DaskClient\n",
    "from dep_tools.grids import PACIFIC_GRID_10\n",
    "from dep_tools.loaders import OdcLoader\n",
    "from dep_tools.searchers import PystacSearcher\n",
    "from planetary_computer import sign_url\n",
    "\n",
    "from src.utils import GeoMADSentinel1Processor"
   ]
  },
  {
   "cell_type": "code",
   "execution_count": null,
   "metadata": {},
   "outputs": [],
   "source": [
    "%load_ext autoreload\n",
    "%autoreload 2"
   ]
  },
  {
   "cell_type": "code",
   "execution_count": null,
   "metadata": {},
   "outputs": [],
   "source": [
    "# Study site configuration\n",
    "# item_id = \"63,20\"  # West viti levu\n",
    "# item_id = \"65,22\"  # Near the anti-meridian\n",
    "# item_id = \"66,22\"  # Right of the anti-meridian\n",
    "# item_id = \"48,16\"  # Vanuatu, middle of Grand Terre\n",
    "# item_id = \"89,16\"  # Rarotonga\n",
    "\n",
    "# Failing\n",
    "item_id = \"42,19\"  # No vv band, only hh and hv\n",
    "\n",
    "# New fail\n",
    "# 61,25\n",
    "# 113,28\n",
    "# 96,35\n",
    "# 21,50\n",
    "\n",
    "datetime = \"2023\"\n",
    "\n",
    "# And get the study site\n",
    "tile_index = tuple(int(i) for i in item_id.split(\",\"))\n",
    "geobox = PACIFIC_GRID_10.tile_geobox(tile_index)\n",
    "\n",
    "# Load low-res if you want it faster\n",
    "geobox = geobox.zoom_out(10)\n",
    "\n",
    "geobox.explore()"
   ]
  },
  {
   "cell_type": "code",
   "execution_count": null,
   "metadata": {},
   "outputs": [],
   "source": [
    "# Only use descending data\n",
    "query = {\n",
    "    \"sat:orbit_state\": {\"eq\": \"descending\"},\n",
    "    \"s1:orbit_source\": {\"eq\": \"RESORB\"}\n",
    "}\n",
    "search_kwargs = {\"query\": query}\n",
    "\n",
    "# Search for data\n",
    "searcher = PystacSearcher(\n",
    "    catalog=\"https://planetarycomputer.microsoft.com/api/stac/v1/\",\n",
    "    collections=[\"sentinel-1-rtc\"],\n",
    "    datetime=datetime,\n",
    "    **search_kwargs\n",
    ")\n",
    "\n",
    "items = searcher.search(area=geobox)\n",
    "print(f\"Found {len(items)} items\")"
   ]
  },
  {
   "cell_type": "code",
   "execution_count": null,
   "metadata": {},
   "outputs": [],
   "source": [
    "load_kwargs = {\"patch_url\": sign_url}\n",
    "\n",
    "# Set up a data loader\n",
    "loader = OdcLoader(\n",
    "    bands=[\"vv\", \"vh\"],\n",
    "    chunks=dict(time=1, x=3201, y=3201),\n",
    "    groupby=\"solar_day\",\n",
    "    fail_on_error=False,\n",
    "    **load_kwargs\n",
    ")\n",
    "\n",
    "# Run the load process, which is lazy-loaded\n",
    "input_data = loader.load(items, areas=geobox)\n",
    "input_data"
   ]
  },
  {
   "cell_type": "code",
   "execution_count": null,
   "metadata": {},
   "outputs": [],
   "source": [
    "# Set up a data processor\n",
    "processor = GeoMADSentinel1Processor(\n",
    "    geomad_options=dict(\n",
    "        work_chunks=(600, 600),\n",
    "        num_threads=10,\n",
    "        maxiters=100,\n",
    "    ),\n",
    "    min_timesteps=5,\n",
    ")\n",
    "\n",
    "# Do the processing using a local dask cluster\n",
    "with DaskClient(n_workers=1, threads_per_worker=32, memory_limit=\"20GB\"):\n",
    "    output_data = processor.process(input_data)\n",
    "\n",
    "output_data"
   ]
  },
  {
   "cell_type": "code",
   "execution_count": null,
   "metadata": {},
   "outputs": [],
   "source": [
    "import folium\n",
    "from ipyleaflet import basemaps\n",
    "\n",
    "m = folium.Map(location=geobox.geographic_extent.centroid.coords[0][::-1], zoom_start=8, tiles=basemaps.Esri.WorldImagery)\n",
    "\n",
    "for band in output_data.data_vars:\n",
    "    output_data[band].odc.add_to(m)\n",
    "\n",
    "m.add_child(folium.LayerControl())\n",
    "\n",
    "m"
   ]
  },
  {
   "cell_type": "code",
   "execution_count": null,
   "metadata": {},
   "outputs": [],
   "source": [
    "from pystac import Item\n",
    "from odc.stac import load\n",
    "\n",
    "item = Item.from_file(\"https://dep-public-staging.s3.us-west-2.amazonaws.com/dep_s1_geomad/0-1-2/071/017/2024/dep_s1_geomad_071_017_2024.stac-item.json\")\n",
    "\n",
    "data = load([item], chunks={})\n",
    "data"
   ]
  },
  {
   "cell_type": "code",
   "execution_count": null,
   "metadata": {},
   "outputs": [],
   "source": [
    "data.vv.odc.explore()"
   ]
  }
 ],
 "metadata": {
  "kernelspec": {
   "display_name": "Python 3",
   "language": "python",
   "name": "python3"
  },
  "language_info": {
   "codemirror_mode": {
    "name": "ipython",
    "version": 3
   },
   "file_extension": ".py",
   "mimetype": "text/x-python",
   "name": "python",
   "nbconvert_exporter": "python",
   "pygments_lexer": "ipython3",
   "version": "3.11.11"
  }
 },
 "nbformat": 4,
 "nbformat_minor": 4
}
